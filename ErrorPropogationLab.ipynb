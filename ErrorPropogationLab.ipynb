{
 "cells": [
  {
   "cell_type": "code",
   "execution_count": 188,
   "id": "4167354d",
   "metadata": {},
   "outputs": [],
   "source": [
    "#PHYSICS LAB: UNCERTAINTY AND ERROR\n",
    "import numpy as np\n",
    "\n",
    "#INITIALIZE "
   ]
  },
  {
   "cell_type": "markdown",
   "id": "6c475db3",
   "metadata": {},
   "source": [
    "$RULE\\; 01:$"
   ]
  },
  {
   "cell_type": "markdown",
   "id": "84942eea",
   "metadata": {},
   "source": [
    "$if\\; Q = C \\cdot A \\\\ then\\; \\delta Q = |C| \\cdot \\delta A$"
   ]
  },
  {
   "cell_type": "code",
   "execution_count": 189,
   "id": "fcb7748f",
   "metadata": {},
   "outputs": [],
   "source": [
    "#RULE 01: \n",
    "\n",
    "#IF Q = C * A\n",
    "#THEN Q(ERROR) = |C| * A(ERROR)\n",
    "Rule_One_Error = 0\n",
    "Rule_One_Constant = 0\n",
    "\n",
    "\n",
    "def RuleOne(Errors, Constant):\n",
    "    dQ = np.absolute(Constant) * Errors\n",
    "    #print(dQ)\n",
    "    return dQ\n",
    "\n"
   ]
  },
  {
   "cell_type": "markdown",
   "id": "2dbf1bc1",
   "metadata": {},
   "source": [
    "$RULE\\; 02:$"
   ]
  },
  {
   "cell_type": "markdown",
   "id": "0911b3e2",
   "metadata": {},
   "source": [
    "$if\\; Q = C \\cdot A^M \\\\ then\\; \\delta Q = C \\cdot M \\cdot A^{M-1} \\cdot \\delta A$"
   ]
  },
  {
   "cell_type": "code",
   "execution_count": 190,
   "id": "2034e23c",
   "metadata": {},
   "outputs": [],
   "source": [
    "#RULE 02:\n",
    "\n",
    "#IF Q = C * A^M\n",
    "#THEN Q(ERROR) = C * M * A^(M-1) * A(ERROR)\n",
    "Rule_Two_Error = 0\n",
    "Rule_Two_Actual = 0\n",
    "Rule_Two_Power = 0\n",
    "Rule_Two_Constant = 0\n",
    "\n",
    "def RuleTwo(Error, Actual, Power, Constant):\n",
    "    dQ = Rule_Two_Actual ** (Rule_Two_Power - 1)\n",
    "    dQ *= Rule_Two_Error * Rule_Two_Power * Rule_Two_Constant\n",
    "    #print(dQ)\n",
    "    return dQ\n",
    "\n",
    "\n",
    "\n"
   ]
  },
  {
   "cell_type": "markdown",
   "id": "ad29354b",
   "metadata": {},
   "source": [
    "$RULE\\; 03$"
   ]
  },
  {
   "cell_type": "markdown",
   "id": "4df24609",
   "metadata": {},
   "source": [
    "$if\\; Q = A + B \\\\then\\; \\delta Q = \\sqrt{(\\delta A)^2 + (\\delta B)^2}$"
   ]
  },
  {
   "cell_type": "code",
   "execution_count": 191,
   "id": "0ddbba50",
   "metadata": {},
   "outputs": [],
   "source": [
    "#RULE 03:\n",
    "\n",
    "#IF Q = A + B\n",
    "#THEN Q(ERROR) = SQRT( A(ERROR)^2 + B(ERROR)^2 )\n",
    "\n",
    "#[A, B, C...]\n",
    "Rule_Three_Errors = []\n",
    "\n",
    "def RuleThree(Errors):\n",
    "    AddedErrors = 0\n",
    "    for index in Errors:\n",
    "        AddedErrors += ( index ** 2 )\n",
    "        \n",
    "    dQ = np.sqrt(AddedErrors)\n",
    "    #print(dQ)\n",
    "    return dQ"
   ]
  },
  {
   "cell_type": "markdown",
   "id": "ed8a0c52",
   "metadata": {},
   "source": [
    "$RULE\\; 04:$"
   ]
  },
  {
   "cell_type": "markdown",
   "id": "6bf92793",
   "metadata": {},
   "source": [
    "$if\\; Q = C \\cdot A^M \\cdot B^N   \n",
    "\\\\   \n",
    "then\\; \\delta Q = \\sqrt{ \n",
    "(M \\cdot \\frac{\\delta A}{A})^2 + \n",
    "(N \\cdot \\frac{\\delta B}{B})^2}$"
   ]
  },
  {
   "cell_type": "code",
   "execution_count": 192,
   "id": "eac9cdf6",
   "metadata": {},
   "outputs": [],
   "source": [
    "#RULE 04:\n",
    "\n",
    "#IF Q = C * A^M * B^N\n",
    "#THEN Q(ERROR) = Q * SQRT( ( M * A(ERROR) / A )^2 + ( N * B(ERROR) / B )^2 )\n",
    "\n",
    "#[A, B, C...]\n",
    "Rule_Four_Base = 0\n",
    "Rule_Four_Error = []\n",
    "Rule_Four_Actual = []\n",
    "Rule_Four_Power = []\n",
    "\n",
    "def RuleFour(Base, Errors, Actuals, Powers):\n",
    "    AddedErrors = 0\n",
    "    for index in range(len(Errors)):\n",
    "        AddedErrors += (Powers[index] * Errors[index] / Actuals[index]) ** 2\n",
    "    dQ = Base * np.sqrt(AddedErrors)\n",
    "    #print(dQ)\n",
    "    return dQ\n",
    "\n"
   ]
  },
  {
   "cell_type": "code",
   "execution_count": 193,
   "id": "1193c233",
   "metadata": {},
   "outputs": [
    {
     "name": "stdout",
     "output_type": "stream",
     "text": [
      "Ballistic Lab Results: 3.74 m/s +- 0.45 m/s\n",
      "Ballistic Lab Calculations:  3.74 m/s +- 0.55 m/s\n",
      "X average: 1.1166666666666667 Error: 0.073282810879294\n"
     ]
    }
   ],
   "source": [
    "#RUN PROGRAMS HERE\n",
    "\n",
    "#standard deviation over square root of 5\n",
    "#err_x = np.std(x) / np.sqrt(5)\n",
    "#avg_x = np.avg(x)\n",
    "\n",
    "#Comment these out when not needed\n",
    "#RuleOne(Rule_One_Error, Rule_One_Constant)\n",
    "#RuleTwo(Rule_Two_Error, Rule_Two_Actual, Rule_Two_Power, Rule_Two_Constant)\n",
    "#RuleThree(Rule_Three_Errors)\n",
    "#RuleFour(Rule_Four_Base, Rule_Four_Error, Rule_Four_Actual, Rule_Four_Power)\n",
    "\n",
    "\n",
    "#Calculate Results from Ballistics Lab...\n",
    "LabBase = 3.74\n",
    "LabErrors = [0.0001, 0.0001, 0.0001, 0.0163]\n",
    "LabActual = [0.2525, 0.0661, 0.0538, 0.364 ]\n",
    "LabPowers = [1     , -1    , 0.5   , 0.5   ]\n",
    "LabResults = [LabBase, RuleFour(LabBase, LabErrors, LabActual, LabPowers)]\n",
    "LabResults[1] = float( str( LabResults[1] ) [:4] )\n",
    "\n",
    "print(\"Ballistic Lab Results: 3.74 m/s +- 0.45 m/s\")\n",
    "print(\"Ballistic Lab Calculations: \" , LabBase , \"m/s +- \" , end=\"\")\n",
    "print( LabResults[1] , \"m/s\")\n",
    "\n",
    "#Calculations\n",
    "x = [1.1, 1.3, 1.4, 0.9, 0.95, 1.05]\n",
    "average_x = np.average(x)\n",
    "error_x = np.std(x)/ np.sqrt(6)\n",
    "\n",
    "print(\"X average:\", average_x, \"Error:\", error_x)\n"
   ]
  },
  {
   "cell_type": "markdown",
   "id": "ac6a0330",
   "metadata": {},
   "source": [
    "$ \\delta v_i = v_i \\cdot \\sqrt{\n",
    "( \\frac{\\delta (M + m)}{(M + m)} )^2\n",
    "+\n",
    "( -1 \\cdot \\frac{\\delta m}{m} )^2\n",
    "+\n",
    "( \\frac{\\delta R}{2 \\cdot R} )^2\n",
    "+\n",
    "( \\frac{\\delta (1 - cos(\\theta) )} {2 \\cdot (1 - cos(\\theta) )} )^2\n",
    "} $"
   ]
  },
  {
   "cell_type": "code",
   "execution_count": null,
   "id": "4782ba44",
   "metadata": {},
   "outputs": [],
   "source": []
  }
 ],
 "metadata": {
  "kernelspec": {
   "display_name": "Python 3 (ipykernel)",
   "language": "python",
   "name": "python3"
  },
  "language_info": {
   "codemirror_mode": {
    "name": "ipython",
    "version": 3
   },
   "file_extension": ".py",
   "mimetype": "text/x-python",
   "name": "python",
   "nbconvert_exporter": "python",
   "pygments_lexer": "ipython3",
   "version": "3.9.12"
  }
 },
 "nbformat": 4,
 "nbformat_minor": 5
}
